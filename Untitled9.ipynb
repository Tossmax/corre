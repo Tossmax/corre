{
  "nbformat": 4,
  "nbformat_minor": 0,
  "metadata": {
    "colab": {
      "name": "Untitled9.ipynb",
      "provenance": [],
      "authorship_tag": "ABX9TyMiJHqdj9ajb9fVwkWlleII",
      "include_colab_link": true
    },
    "kernelspec": {
      "name": "python3",
      "display_name": "Python 3"
    }
  },
  "cells": [
    {
      "cell_type": "markdown",
      "metadata": {
        "id": "view-in-github",
        "colab_type": "text"
      },
      "source": [
        "<a href=\"https://colab.research.google.com/github/Tossmax/corre/blob/main/Untitled9.ipynb\" target=\"_parent\"><img src=\"https://colab.research.google.com/assets/colab-badge.svg\" alt=\"Open In Colab\"/></a>"
      ]
    },
    {
      "cell_type": "code",
      "metadata": {
        "colab": {
          "base_uri": "https://localhost:8080/"
        },
        "id": "NcQ_n2gkCA9p",
        "outputId": "371b813c-8f0c-4e69-dff0-34838a3775da"
      },
      "source": [
        "print(\"I'm \\n\" + \"learning \\n\" + '\"Python\"')"
      ],
      "execution_count": 1,
      "outputs": [
        {
          "output_type": "stream",
          "text": [
            "I'm \n",
            "learning \n",
            "\"Python\"\n"
          ],
          "name": "stdout"
        }
      ]
    },
    {
      "cell_type": "code",
      "metadata": {
        "colab": {
          "base_uri": "https://localhost:8080/"
        },
        "id": "FZCbnHiZCNCu",
        "outputId": "e3336a4e-4870-4574-c9d9-374925a30b75"
      },
      "source": [
        "Num1 = int(input(\"please enter a number: \"))\n",
        "Num2 = int(input(\"please enter a new number: \"))\n",
        " \n",
        "Sum = Num1 + Num2\n",
        "print(\"The sum of the two numbers: \", Sum)"
      ],
      "execution_count": 2,
      "outputs": [
        {
          "output_type": "stream",
          "text": [
            "please enter a number: -22\n",
            "please enter a new number: 1024\n",
            "The sum of the two numbers:  1002\n"
          ],
          "name": "stdout"
        }
      ]
    },
    {
      "cell_type": "code",
      "metadata": {
        "colab": {
          "base_uri": "https://localhost:8080/"
        },
        "id": "HvNZ7ubkCXYe",
        "outputId": "4aef720d-e922-48d1-d74d-dc47031b26ec"
      },
      "source": [
        "print(2*4, 2**4, 2.*4, 2**4., 2/4, 2//4, -2//4, 2%4, 2%-4, sep=\"\\n\")"
      ],
      "execution_count": 3,
      "outputs": [
        {
          "output_type": "stream",
          "text": [
            "8\n",
            "16\n",
            "8.0\n",
            "16.0\n",
            "0.5\n",
            "0\n",
            "-1\n",
            "2\n",
            "-2\n"
          ],
          "name": "stdout"
        }
      ]
    },
    {
      "cell_type": "code",
      "metadata": {
        "colab": {
          "base_uri": "https://localhost:8080/"
        },
        "id": "EjYfZFvvCg1b",
        "outputId": "16d89d73-d777-4290-cfae-ff0782a8e419"
      },
      "source": [
        "F = float(input(\"Enter a temperature in Farenheit: \"))\n",
        "C = 5/9*(F-32)\n",
        " \n",
        "print(\"Temperature in degree celcius: \", C)"
      ],
      "execution_count": 4,
      "outputs": [
        {
          "output_type": "stream",
          "text": [
            "Enter a temperature in Farenheit: 60\n",
            "Temperature in degree celcius:  15.555555555555557\n"
          ],
          "name": "stdout"
        }
      ]
    },
    {
      "cell_type": "code",
      "metadata": {
        "colab": {
          "base_uri": "https://localhost:8080/"
        },
        "id": "aWikTVRPCleU",
        "outputId": "5511589a-3783-4ab0-ec66-1efa47d1c3a2"
      },
      "source": [
        "John = 3\n",
        "Mary = 5\n",
        "Adam = 6\n",
        " \n",
        "print(John, Mary, Adam, sep=\",\")\n",
        "print(John+Mary+Adam)\n",
        " \n",
        "Total_Apples = John + Mary + Adam\n",
        "print(Total_Apples)\n",
        " \n",
        "print(Total_Apples/2, Total_Apples//2, Total_Apples**2, Total_Apples-Mary)\n",
        "print(Total_Apples)"
      ],
      "execution_count": 5,
      "outputs": [
        {
          "output_type": "stream",
          "text": [
            "3,5,6\n",
            "14\n",
            "14\n",
            "7.0 7 196 9\n",
            "14\n"
          ],
          "name": "stdout"
        }
      ]
    }
  ]
}