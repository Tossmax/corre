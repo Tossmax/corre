{
 "cells": [
  {
   "cell_type": "code",
   "execution_count": 1,
   "metadata": {},
   "outputs": [],
   "source": [
    "import pandas as pd\n",
    "import numpy as np\n",
    "import matplotlib.pyplot as plt\n",
    "import seaborn as sns\n",
    "sns.set()\n",
    "pd.set_option('display.max_columns', None)"
   ]
  },
  {
   "cell_type": "code",
   "execution_count": 2,
   "metadata": {},
   "outputs": [],
   "source": [
    "train_df = pd.read_csv(r'C:\\Users\\PCAdmin\\Desktop\\Bootcamp\\Train.csv')\n",
    "test_df = pd.read_csv(r'C:\\Users\\PCAdmin\\Desktop\\Bootcamp\\Test.csv')"
   ]
  },
  {
   "cell_type": "code",
   "execution_count": 3,
   "metadata": {},
   "outputs": [],
   "source": [
    "from sklearn.preprocessing import LabelEncoder\n",
    "from sklearn.metrics import roc_auc_score"
   ]
  },
  {
   "cell_type": "code",
   "execution_count": 4,
   "metadata": {},
   "outputs": [],
   "source": [
    "numerical_features = [col for col in train_df.columns if train_df[col].dtypes != object]\n",
    "categorical_features = [col for col in train_df.columns if train_df[col].dtypes == object]\n"
   ]
  },
  {
   "cell_type": "code",
   "execution_count": 5,
   "metadata": {},
   "outputs": [],
   "source": [
    "numerical_cols = [col for col in test_df.columns if test_df[col].dtypes != object]\n",
    "categorical_cols = [col for col in test_df.columns if test_df[col].dtypes == object]"
   ]
  },
  {
   "cell_type": "code",
   "execution_count": 6,
   "metadata": {},
   "outputs": [],
   "source": [
    "train_df[numerical_features] = train_df[numerical_features].fillna(-999)"
   ]
  },
  {
   "cell_type": "code",
   "execution_count": 7,
   "metadata": {},
   "outputs": [],
   "source": [
    "test_df[numerical_cols] = test_df[numerical_cols].fillna(-999)"
   ]
  },
  {
   "cell_type": "code",
   "execution_count": 8,
   "metadata": {},
   "outputs": [],
   "source": [
    "encoder = LabelEncoder()\n",
    "\n",
    "tran_f = ['default_status', 'form_field47']\n",
    "\n",
    "for col in tran_f:\n",
    "    train_df[col] = encoder.fit_transform(train_df[col])"
   ]
  },
  {
   "cell_type": "code",
   "execution_count": 9,
   "metadata": {},
   "outputs": [],
   "source": [
    "label_encoder = LabelEncoder()\n",
    "\n",
    "test_df['form_field47'] = label_encoder.fit_transform(test_df['form_field47'])"
   ]
  },
  {
   "cell_type": "code",
   "execution_count": 10,
   "metadata": {},
   "outputs": [],
   "source": [
    "feature_names = ['form_field1', 'form_field2',  'form_field3', 'form_field4', 'form_field5', 'form_field6', 'form_field7', 'form_field8', 'form_field9', 'form_field10', 'form_field11', 'form_field12', 'form_field13',  'form_field14', 'form_field15', 'form_field16', 'form_field17', 'form_field18', 'form_field20', 'form_field21', 'form_field22', 'form_field23', 'form_field24', 'form_field25', 'form_field26', 'form_field27', 'form_field28', 'form_field29', 'form_field30', 'form_field31', 'form_field32', 'form_field33', 'form_field34', 'form_field35', 'form_field36', 'form_field37', 'form_field38', 'form_field39', 'form_field40', 'form_field41', 'form_field42', 'form_field43', 'form_field44', 'form_field45', 'form_field46', 'form_field47', 'form_field48', 'form_field49', 'form_field50']\n",
    "X = train_df[feature_names]\n",
    "y = train_df.default_status"
   ]
  },
  {
   "cell_type": "code",
   "execution_count": 11,
   "metadata": {},
   "outputs": [],
   "source": [
    "from sklearn.linear_model import LogisticRegression\n",
    "from sklearn.model_selection import KFold, StratifiedKFold, train_test_split\n",
    "from sklearn.preprocessing import MinMaxScaler\n",
    "from sklearn.pipeline import Pipeline\n",
    "from catboost import CatBoostClassifier\n",
    "from xgboost import XGBClassifier \n",
    "from lightgbm import LGBMClassifier\n",
    "from sklearn.ensemble import RandomForestClassifier, VotingClassifier, StackingClassifier"
   ]
  },
  {
   "cell_type": "code",
   "execution_count": 46,
   "metadata": {},
   "outputs": [],
   "source": [
    "cat = CatBoostClassifier(n_estimators=100, thread_count=-1, od_type='Iter', loss_function='Logloss', verbose=False)\n",
    "rf = RandomForestClassifier(n_estimators=100, n_jobs=-1)\n",
    "xg = XGBClassifier( n_jobs =-1)\n",
    "lg = LGBMClassifier( n_jobs=-1)\n",
    "lr = LogisticRegression()\n",
    "minmax = MinMaxScaler()"
   ]
  },
  {
   "cell_type": "code",
   "execution_count": 14,
   "metadata": {},
   "outputs": [],
   "source": [
    "x_train, x_test, y_train, y_test = train_test_split(X, y, stratify=y, random_state=42)"
   ]
  },
  {
   "cell_type": "code",
   "execution_count": 15,
   "metadata": {},
   "outputs": [
    {
     "data": {
      "text/plain": [
       "Pipeline(steps=[('scaler', MinMaxScaler()),\n",
       "                ('model',\n",
       "                 VotingClassifier(estimators=[('cat',\n",
       "                                               <catboost.core.CatBoostClassifier object at 0x0000014124BBDCA0>),\n",
       "                                              ('xg',\n",
       "                                               XGBClassifier(base_score=None,\n",
       "                                                             booster=None,\n",
       "                                                             colsample_bylevel=None,\n",
       "                                                             colsample_bynode=None,\n",
       "                                                             colsample_bytree=None,\n",
       "                                                             gamma=None,\n",
       "                                                             gpu_id=None,\n",
       "                                                             importance_type='gain',\n",
       "                                                             interaction_constraints=None,\n",
       "                                                             learning_r...\n",
       "                                                             max_depth=None,\n",
       "                                                             min_child_weight=None,\n",
       "                                                             missing=nan,\n",
       "                                                             monotone_constraints=None,\n",
       "                                                             n_estimators=100,\n",
       "                                                             n_jobs=-1,\n",
       "                                                             num_parallel_tree=None,\n",
       "                                                             random_state=None,\n",
       "                                                             reg_alpha=None,\n",
       "                                                             reg_lambda=None,\n",
       "                                                             scale_pos_weight=None,\n",
       "                                                             subsample=None,\n",
       "                                                             tree_method=None,\n",
       "                                                             validate_parameters=None,\n",
       "                                                             verbosity=None)),\n",
       "                                              ('lg', LGBMClassifier()),\n",
       "                                              ('rf',\n",
       "                                               RandomForestClassifier(n_jobs=-1))],\n",
       "                                  voting='soft'))])"
      ]
     },
     "execution_count": 15,
     "metadata": {},
     "output_type": "execute_result"
    }
   ],
   "source": [
    "use_classifier = [('cat', cat), ('xg', xg), ('lg', lg), ('rf', rf)]\n",
    "model = VotingClassifier(estimators= use_classifier, voting='soft')\n",
    "pipe = Pipeline(steps =[('scaler', minmax), ('model', model)])\n",
    "pipe.fit(x_train, y_train)"
   ]
  },
  {
   "cell_type": "code",
   "execution_count": 22,
   "metadata": {},
   "outputs": [],
   "source": [
    "feature_nam = ['form_field1', 'form_field2',  'form_field3', 'form_field4', 'form_field5', 'form_field6', 'form_field7', 'form_field8', 'form_field9', 'form_field10', 'form_field11', 'form_field12', 'form_field13',  'form_field14', 'form_field15', 'form_field16', 'form_field17', 'form_field18', 'form_field20', 'form_field21', 'form_field22', 'form_field23', 'form_field24', 'form_field25', 'form_field26', 'form_field27', 'form_field28', 'form_field29', 'form_field30', 'form_field31', 'form_field32', 'form_field33', 'form_field34', 'form_field35', 'form_field36', 'form_field37', 'form_field38', 'form_field39', 'form_field40', 'form_field41', 'form_field42', 'form_field43', 'form_field44', 'form_field45', 'form_field46', 'form_field47', 'form_field48', 'form_field49', 'form_field50']\n",
    "X_test = test_df[feature_nam]"
   ]
  },
  {
   "cell_type": "code",
   "execution_count": 23,
   "metadata": {},
   "outputs": [
    {
     "data": {
      "text/plain": [
       "0.8196428571428571"
      ]
     },
     "execution_count": 23,
     "metadata": {},
     "output_type": "execute_result"
    }
   ],
   "source": [
    "pipe.score(x_test, y_test)"
   ]
  },
  {
   "cell_type": "code",
   "execution_count": 28,
   "metadata": {},
   "outputs": [
    {
     "name": "stdout",
     "output_type": "stream",
     "text": [
      "0.8701047005228555\n"
     ]
    }
   ],
   "source": [
    "from sklearn.metrics import accuracy_score\n",
    "score = roc_auc_score(y_test, pipe.predict_proba(x_test)[:, 1])\n",
    "print(score)"
   ]
  },
  {
   "cell_type": "code",
   "execution_count": 49,
   "metadata": {},
   "outputs": [],
   "source": [
    "from skopt.space import Real, Categorical, Integer"
   ]
  },
  {
   "cell_type": "code",
   "execution_count": 18,
   "metadata": {},
   "outputs": [],
   "source": [
    "splits = 25\n",
    "\n",
    "skfold = StratifiedKFold(n_splits=splits, random_state=42, shuffle=True)\n",
    "kfold = KFold(n_splits=splits, shuffle=True, random_state=42)"
   ]
  },
  {
   "cell_type": "code",
   "execution_count": null,
   "metadata": {},
   "outputs": [
    {
     "name": "stdout",
     "output_type": "stream",
     "text": [
      "number of splits trained 1 \n",
      "number of splits trained 2 \n",
      "number of splits trained 3 \n",
      "number of splits trained 4 \n",
      "number of splits trained 5 \n",
      "number of splits trained 6 \n",
      "number of splits trained 7 \n",
      "number of splits trained 8 \n",
      "number of splits trained 9 \n",
      "number of splits trained 10 \n",
      "number of splits trained 11 \n",
      "number of splits trained 12 \n",
      "number of splits trained 13 \n",
      "number of splits trained 14 \n",
      "number of splits trained 15 \n",
      "number of splits trained 16 \n"
     ]
    }
   ],
   "source": [
    "scores = []\n",
    "preds = []\n",
    "\n",
    "vc = VotingClassifier(estimators=[('cat', CatBoostClassifier(verbose=False, random_state=42, thread_count= -1)), \n",
    "                                  ('cat2', CatBoostClassifier(bagging_temperature = 0.8373883555532844, border_count = 225,  depth = 8, iterations = 261, l2_leaf_reg = 4, learning_rate = 0.018906758484967926, random_strength=3.43458268604567e-06, scale_pos_weight=0.6393718108603786, verbose=False, random_state=42, thread_count= -1)),\n",
    "                                 ('lg', LGBMClassifier(n_jobs= -1, random_state=42)), ('rf', RandomForestClassifier(n_estimators=580,n_jobs=-1))], voting = 'soft')\n",
    "i = 1\n",
    "\n",
    "for train_split, test_split in skfold.split(X, y):\n",
    "    pipe = Pipeline([('scaler', minmax), ('model', vc)])\n",
    "    x_train, x_test, y_train, y_test = X.iloc[train_split], X.iloc[test_split], y.iloc[train_split], y.iloc[test_split]\n",
    "    pipe.fit(x_train, y_train)\n",
    "    print('number of splits trained {} '.format(i))\n",
    "    score = roc_auc_score(y_test, pipe.predict_proba(x_test)[:, 1])\n",
    "    pred = pipe.predict_proba(X_test)[:, 1]\n",
    "    scores.append(score)\n",
    "    preds.append(pred)\n",
    "    i += 1\n",
    " \n",
    "\n",
    "np.mean(score)"
   ]
  },
  {
   "cell_type": "code",
   "execution_count": 40,
   "metadata": {},
   "outputs": [],
   "source": [
    "TOO_submission = pd.DataFrame({\"Applicant_ID\": test_df[\"Applicant_ID\"], \"default_status\" :  pred})"
   ]
  },
  {
   "cell_type": "code",
   "execution_count": 41,
   "metadata": {},
   "outputs": [],
   "source": [
    "TOO_submission.to_csv('Predicted.csv', index=False)"
   ]
  },
  {
   "cell_type": "code",
   "execution_count": null,
   "metadata": {},
   "outputs": [],
   "source": []
  }
 ],
 "metadata": {
  "kernelspec": {
   "display_name": "Python 3",
   "language": "python",
   "name": "python3"
  },
  "language_info": {
   "codemirror_mode": {
    "name": "ipython",
    "version": 3
   },
   "file_extension": ".py",
   "mimetype": "text/x-python",
   "name": "python",
   "nbconvert_exporter": "python",
   "pygments_lexer": "ipython3",
   "version": "3.8.3"
  }
 },
 "nbformat": 4,
 "nbformat_minor": 4
}
